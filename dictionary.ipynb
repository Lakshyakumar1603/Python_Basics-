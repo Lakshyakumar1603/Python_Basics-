{
 "cells": [
  {
   "cell_type": "code",
   "execution_count": null,
   "metadata": {},
   "outputs": [],
   "source": [
    "#Dicnoary tutorial\n",
    "#dict have the mapping concept between key and values \n",
    "#dict={'key':value}\n",
    "#dict is mutable but key is not mutable it have the unique id \n",
    "\n",
    "#"
   ]
  },
  {
   "cell_type": "code",
   "execution_count": 13,
   "metadata": {},
   "outputs": [],
   "source": [
    "# #dict Creation method \n",
    "\n",
    "# #method-1\n",
    "# # d1={}  #empty Dict\n",
    "\n",
    "# # #method-2  #by using functions \n",
    "# # d2=dict()\n",
    "# # print(d2)\n",
    "\n",
    "# # #method-3 #instalise the Keys and values\n",
    "# # d3={'name':'lakshya','gender':'male','age':'12'}\n",
    "# # print(d3)\n",
    "\n",
    "# # #method-4 #passing as the argument in function\n",
    "# # a={1:5,2:6,3:7}\n",
    "# # d4=dict(a)\n",
    "# # print(d4)\n",
    "\n",
    "# # #method-5 : by using the nested list as thge arugment \n",
    "# # #[[key,value],[key,value]]\n",
    "# # a=[['One',1],['Tow',2],['Three',3]]\n",
    "# # d5=dict(a)\n",
    "# # print(d5)\n",
    "\n",
    "# # #Method -6 : by using the square bracket\n",
    "\n",
    "# # d6={}\n",
    "# # d6[\"Lakshya \"]=1\n",
    "# # d6[\"Uday\"]=2\n",
    "# # d6[\"Mirdul\"]=3\n",
    "\n",
    "# # print(d6)\n",
    "\n",
    "# # #method-7 : by using zip()\n",
    "# # # d7=dict(zip([list of keys],[list of Values]))\n",
    "# # keys=[\"lakshya\",\"age\",'male']\n",
    "# # values=[1,2,3]\n",
    "\n",
    "# # d7=dict(zip(keys,values))\n",
    "# # print(d7)\n",
    "\n",
    "# #method-8 : by using fromkeys()\n",
    "# #d.fromkeys(<ck>,<v>)\n",
    "# keys1=[1,2,4,8,6]\n",
    "# values1=\"undifined\"\n",
    "\n",
    "# d81=dict.fromkeys(keys1,values1)\n",
    "# print(d81)\n",
    "\n",
    "# values2=0\n",
    "# d82=dict.fromkeys(keys1,values2)\n",
    "# print(d82)\n",
    "\n",
    "# values3=[1,2,4,565,185498,1574]\n",
    "# d83=dict.fromkeys(keys1,values3)\n",
    "# print(d83)\n",
    "\n",
    "# d84=dict.fromkeys(keys1) #by defualt is gives the none to values \n",
    "# print(d84)\n",
    "\n",
    "\n"
   ]
  },
  {
   "cell_type": "code",
   "execution_count": null,
   "metadata": {},
   "outputs": [
    {
     "name": "stdout",
     "output_type": "stream",
     "text": [
      "{1: 'Lakshya', 2: 'uday', 3: 'ranjit sir', 4: 'pankaj sir', 5: 'Meera'}\n",
      "Lakshya\n",
      "uday\n",
      "ranjit sir\n"
     ]
    }
   ],
   "source": [
    "#Accessing the element in a dictionaory\n",
    "\n",
    "# keys=[1,2,3,4,5]\n",
    "# values=[\"Lakshya\",\"uday\",\"ranjit sir\",\"pankaj sir\",\"Meera\"]\n",
    "\n",
    "# d1=dict(zip(keys,values))\n",
    "# print(d1)\n",
    "\n",
    "#accesing element \n",
    "\n",
    "#if key is persent in dict then it acess the element \n",
    "#else it givess the error \n",
    "#dict[key]\n",
    "#\n",
    "# print(d1[1]) \n",
    "# print(d1[2])\n",
    "# print(d1[3])\n",
    "\n",
    "\n"
   ]
  },
  {
   "cell_type": "code",
   "execution_count": null,
   "metadata": {},
   "outputs": [
    {
     "name": "stdout",
     "output_type": "stream",
     "text": [
      "1 : Lakshya\n",
      "2 : uday\n",
      "3 : ranjit sir\n",
      "4 : pankaj sir\n",
      "5 : Meera\n"
     ]
    }
   ],
   "source": [
    "#traversing the element in dict \n",
    "#by using for loop \n",
    "\n",
    "# for i in d1:\n",
    "#     #print(key,:,value)\n",
    "#     print(i,\":\",d1[i])\n",
    "\n",
    "    \n",
    "\n"
   ]
  },
  {
   "cell_type": "code",
   "execution_count": null,
   "metadata": {},
   "outputs": [
    {
     "name": "stdout",
     "output_type": "stream",
     "text": [
      "{1: 'Lakshya', 2: 'Kirpal singh', 3: 'ranjit sir', 4: 'pankaj sir', 5: 'Meera', 6: 'Bhanu'}\n",
      "{1: 'Lakshya', 2: 'Kirpal singh', 3: 'ranjit sir', 4: 'pankaj sir', 5: 'Meera', 6: 'Bhanu'}\n"
     ]
    }
   ],
   "source": [
    "#Appending/Adding the element in dictionary \n",
    "\n",
    "#condition :\n",
    "#if element's key  is already persent in the dict then it update is value crosspondingf to a key \n",
    "#else if element's key  is not persent then it add the key in the dictionary \n",
    "\n",
    "#elemnt's key is not persent -append the element\n",
    "# d1[6]=\"Bhanu\"\n",
    "# print(d1)\n",
    "\n",
    "# #elemnt's key is persent - update the element \n",
    "# d1[2]=\"Kirpal singh\"\n",
    "# print(d1)"
   ]
  },
  {
   "cell_type": "code",
   "execution_count": null,
   "metadata": {},
   "outputs": [
    {
     "name": "stdout",
     "output_type": "stream",
     "text": [
      "{1: 30, 2: 40, 3: 70, 4: 80, 5: 90}\n",
      "{6: 20, 7: 45, 8: 1, 9: 5, 5: 63}\n",
      "Mergging dictionary :  None\n",
      "Mergging dictionary :  {1: 30, 2: 40, 3: 70, 4: 80, 5: 63, 6: 20, 7: 45, 8: 1, 9: 5}\n"
     ]
    }
   ],
   "source": [
    "#Merging the two dictionary byu using update()\n",
    "#d1.update(d2)  d2 is mergging in d1\n",
    "\n",
    "# key1=[1,2,3,4,5]\n",
    "# value1=[30,40,70,80,90]\n",
    "\n",
    "# d1= dict(zip(key1,value1))\n",
    "# print(d1)\n",
    "\n",
    "# key2=[6,7,8,9,5]\n",
    "# value2=[20,45,1,5,63]\n",
    "\n",
    "# d2=dict(zip(key2,value2))\n",
    "# print(d2)\n",
    "\n",
    "\n",
    "#Condition : if the keys are same then values is over wriiten \n",
    "#merging dict element at the last of dict \n",
    "\n",
    "\n",
    "# d4=d1.update(d2)\n",
    "# print(\"Mergging dictionary : \",d4)\n",
    "# print(\"Mergging dictionary : \",d1)\n",
    "\n",
    "\n",
    "\n"
   ]
  },
  {
   "cell_type": "code",
   "execution_count": null,
   "metadata": {},
   "outputs": [
    {
     "name": "stdout",
     "output_type": "stream",
     "text": [
      "elemnet is pop\n",
      "Last item of dict is sucessfully pop \n"
     ]
    }
   ],
   "source": [
    "#removing the element in dict \n",
    "#1.pop(key)\n",
    "#2.del\n",
    "#3.popitems()\n",
    "\n",
    "#del dict[key]\n",
    "# print(d1)\n",
    "# del d1[5]\n",
    "# print(d1)\n",
    "\n",
    "#it deletes whole dict with using del dict\n",
    "# del d4\n",
    "# print(\"dict is sucessfully Deleted \")\n",
    "\n",
    "\n",
    "# d1.pop(7) # returns the deleted element \n",
    "# print(\"elemnet is pop\")\n",
    "\n",
    "# d1.popitem()\n",
    "# print(\"Last item of dict is sucessfully pop \")"
   ]
  },
  {
   "cell_type": "code",
   "execution_count": 1,
   "metadata": {},
   "outputs": [],
   "source": [
    "#membership opreater\n",
    "#in and not in \n",
    "\n",
    "# print(d2)\n",
    "\n",
    "# #print(\"key in dict)\n",
    "# print(1 in d2)\n",
    "\n",
    "# print(1 not in d2)\n",
    "\n"
   ]
  },
  {
   "cell_type": "code",
   "execution_count": 13,
   "metadata": {},
   "outputs": [
    {
     "name": "stdout",
     "output_type": "stream",
     "text": [
      "4\n",
      "get() 20\n",
      "get() None\n",
      "Items() dict_items([(1, 20), (2, 24), (3, 48), (4, 5)])\n",
      "Keys() dict_keys([1, 2, 3, 4])\n",
      "values() dict_values([20, 24, 48, 5])\n",
      "copy() {1: 20, 2: 24, 3: 48, 4: 5}\n",
      "{1: 'Undifned', 2: 'Undifned', 4: 'Undifned', 865: 'Undifned', 45: 'Undifned'}\n",
      "{1: None, 2: None, 4: None, 865: None, 45: None}\n",
      "popitem() :  (45, None)\n"
     ]
    }
   ],
   "source": [
    "#Comman Dict functions \n",
    "\n",
    "d1={1:20,2:24,3:48,4:5}\n",
    "\n",
    "#len(): it count the keys in dict and gives the lenght of dict \n",
    "print(len(d1))\n",
    "\n",
    "#get() method \n",
    "#return a values for the give key.if the key is not persent in dict then it returns none \n",
    "#dict.get(key)\n",
    "\n",
    "print(\"get()\",d1.get(1))\n",
    "print(\"get()\",d1.get(8))\n",
    "\n",
    "\n",
    "#items(): it gives the key value pair in form of the tuple in the list  \n",
    "print(\"Items()\",d1.items())\n",
    "\n",
    "#keys() : it gives the list of key \n",
    "print(\"Keys()\",d1.keys())\n",
    "\n",
    "##values() : It give s the values of dict in the list \n",
    "print(\"values()\",d1.values())\n",
    "\n",
    "#copy() : it copy whole the dict\n",
    "#d2={}\n",
    "d2=d1.copy()\n",
    "print(\"copy()\",d2)\n",
    "\n",
    "#fromkeys() : it used when the give the values is same for all keys in dict at one time \n",
    "#if key is not persent in the dict then it reutun the \"none\"\n",
    "# if key is persent then it print the values\n",
    "keys=[1,2,4,865,45]\n",
    "value=\"Undifned\"\n",
    "d2={}\n",
    "l=d1.fromkeys(keys,value)\n",
    "l1=d2.fromkeys(keys)\n",
    "print(l)\n",
    "print(l1)\n",
    "\n",
    "#popitem() : it pop the last items in dictinoary\n",
    "print(\"popitem() : \",l1.popitem()) \n",
    "\n",
    "\n",
    "#setdefualt() : method to return the value of items with the specificed key.\n",
    "#if  the key is not exit ,it insert the key with the specified values\n",
    "# the setvalue() function return :\n",
    "#value of the key if it is in the dict \n",
    "#none,if the key is not in the dict and defualt and defualt value is not specified \n",
    "#defualt value if key is not in the key in the dict and dictnary is specifed \n",
    "\n",
    "# d={\"name \":\"Lakshya Kumar\",\"gender\" : \"male\"}\n",
    "# print(d.setdefualt(\"name\",\"Name is not avilable\"))\n",
    "# print(d.setdefualt(\"dob\",\"DOB is not avilable\"))\n",
    "# print(d.setdefualt(\"gender\"))\n",
    "# print(d.setdefualt(\"Mobile\"))\n",
    "\n",
    "\n",
    "\n",
    "\n"
   ]
  },
  {
   "cell_type": "code",
   "execution_count": 18,
   "metadata": {},
   "outputs": [
    {
     "name": "stdout",
     "output_type": "stream",
     "text": [
      "4\n",
      "1\n",
      "[1, 2, 3, 4]\n",
      "[(1, 20), (2, 24), (3, 48), (4, 5)]\n",
      "[5, 20, 24, 48]\n",
      "[1, 2, 3, 4]\n"
     ]
    }
   ],
   "source": [
    "print(max(d1))\n",
    "\n",
    "print(min(d1))\n",
    "\n",
    "#it give s the list of keys in the sorted order\n",
    "print(sorted(d1))\n",
    "print(sorted(d1.items()))\n",
    "print(sorted(d1.values()))\n",
    "print(sorted(d1.keys()))\n",
    "\n",
    "\n",
    "\n"
   ]
  },
  {
   "cell_type": "code",
   "execution_count": 19,
   "metadata": {},
   "outputs": [
    {
     "name": "stdout",
     "output_type": "stream",
     "text": [
      "Good by dictionary !!!\n"
     ]
    }
   ],
   "source": [
    "print(\"Good by dictionary !!!\")"
   ]
  }
 ],
 "metadata": {
  "kernelspec": {
   "display_name": "Python 3",
   "language": "python",
   "name": "python3"
  },
  "language_info": {
   "codemirror_mode": {
    "name": "ipython",
    "version": 3
   },
   "file_extension": ".py",
   "mimetype": "text/x-python",
   "name": "python",
   "nbconvert_exporter": "python",
   "pygments_lexer": "ipython3",
   "version": "3.12.5"
  }
 },
 "nbformat": 4,
 "nbformat_minor": 2
}
