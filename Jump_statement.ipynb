{
 "cells": [
  {
   "cell_type": "code",
   "execution_count": 11,
   "metadata": {},
   "outputs": [
    {
     "name": "stdout",
     "output_type": "stream",
     "text": [
      "S\n",
      "t\n",
      "r\n",
      "i\n",
      "n\n",
      "g\n"
     ]
    }
   ],
   "source": [
    "#jump statement \n",
    "\n",
    "#1. break \n",
    "#2.continue\n",
    "#3.Pass \n",
    "\n",
    "#break : It terminate the whole loop and come out in the loop \n",
    "#Continue: it skips the that particular condition and print the remaining ones.\n",
    "#pass : It is the null opreations nothing happens when its executes. \n",
    "\n",
    "for i in \"String\":\n",
    "    # if (i=='n'): #it prints the string before to n,n is not included\n",
    "    #     break\n",
    "    # print(i) \n",
    "\n",
    "    # if (i=='n'):  #it skips only n and print whole the string \n",
    "    #     continue\n",
    "    # print(i)\n",
    "\n",
    "    if (i=='n'): # it prints whole the string \n",
    "        pass\n",
    "    print(i)\n",
    "\n",
    "        \n"
   ]
  },
  {
   "cell_type": "code",
   "execution_count": 18,
   "metadata": {},
   "outputs": [
    {
     "name": "stdout",
     "output_type": "stream",
     "text": [
      "s\n",
      "good bye \n",
      "t\n",
      "good bye \n",
      "r\n",
      "good bye \n"
     ]
    }
   ],
   "source": [
    "index=0\n",
    "for val in \"string\":\n",
    "        if val==\"i\":\n",
    "            break\n",
    "        #print(val)\n",
    "\n",
    "        else:\n",
    "            print(val)\n",
    "            print(\"good bye \")"
   ]
  },
  {
   "cell_type": "code",
   "execution_count": 20,
   "metadata": {},
   "outputs": [
    {
     "name": "stdout",
     "output_type": "stream",
     "text": [
      "kumar\n"
     ]
    }
   ],
   "source": [
    "num=5\n",
    "\n",
    "fn=\"Lakshya\" if(num>5) else \"kumar\"\n",
    "\n",
    "print(fn)\n",
    "\n"
   ]
  }
 ],
 "metadata": {
  "kernelspec": {
   "display_name": "Python 3",
   "language": "python",
   "name": "python3"
  },
  "language_info": {
   "codemirror_mode": {
    "name": "ipython",
    "version": 3
   },
   "file_extension": ".py",
   "mimetype": "text/x-python",
   "name": "python",
   "nbconvert_exporter": "python",
   "pygments_lexer": "ipython3",
   "version": "3.12.5"
  }
 },
 "nbformat": 4,
 "nbformat_minor": 2
}
