{
 "cells": [
  {
   "cell_type": "code",
   "execution_count": 7,
   "metadata": {},
   "outputs": [],
   "source": [
    "# #Tuple tutorial \n",
    "\n",
    "# #creating the tuple\n",
    "# t1=() #creating the empty tuple \n",
    "\n",
    "# #method-2\n",
    "# t2=tuple() #with Tuple function \n",
    "\n",
    "# #method 3\n",
    "# t3=(2,3,4,5,8)  #intialze the tuple\n",
    "\n",
    "# #method-4\n",
    "# t5=(2,) #creating the single element tuple \n",
    "# print(type(t5))\n",
    "\n",
    "# #method-5 \n",
    "# t6=56,\n",
    "# print(t6)\n",
    "\n",
    "# #method-6\n",
    "# t7=tuple((10,))\n",
    "# print(t7)"
   ]
  },
  {
   "cell_type": "code",
   "execution_count": 17,
   "metadata": {},
   "outputs": [],
   "source": [
    "#most important Question \n",
    "# t1=tuple((\"string\"),)\n",
    "# print(t1)\n",
    "\n",
    "# t2=tuple((\"string\"))\n",
    "# print(t2)\n"
   ]
  },
  {
   "cell_type": "code",
   "execution_count": 18,
   "metadata": {},
   "outputs": [
    {
     "ename": "TypeError",
     "evalue": "unsupported operand type(s) for +: 'int' and 'str'",
     "output_type": "error",
     "traceback": [
      "\u001b[1;31m---------------------------------------------------------------------------\u001b[0m",
      "\u001b[1;31mTypeError\u001b[0m                                 Traceback (most recent call last)",
      "Cell \u001b[1;32mIn[18], line 2\u001b[0m\n\u001b[0;32m      1\u001b[0m t1\u001b[38;5;241m=\u001b[39m(\u001b[38;5;124m'\u001b[39m\u001b[38;5;124ma\u001b[39m\u001b[38;5;124m'\u001b[39m,\u001b[38;5;124m'\u001b[39m\u001b[38;5;124mb\u001b[39m\u001b[38;5;124m'\u001b[39m,\u001b[38;5;124m'\u001b[39m\u001b[38;5;124mc\u001b[39m\u001b[38;5;124m'\u001b[39m,\u001b[38;5;124m'\u001b[39m\u001b[38;5;124md\u001b[39m\u001b[38;5;124m'\u001b[39m)\n\u001b[1;32m----> 2\u001b[0m \u001b[38;5;28;43msum\u001b[39;49m\u001b[43m(\u001b[49m\u001b[43mt1\u001b[49m\u001b[43m)\u001b[49m\n",
      "\u001b[1;31mTypeError\u001b[0m: unsupported operand type(s) for +: 'int' and 'str'"
     ]
    }
   ],
   "source": [
    "t1=('a','b','c','d')\n",
    "sum(t1)"
   ]
  },
  {
   "cell_type": "code",
   "execution_count": 14,
   "metadata": {},
   "outputs": [],
   "source": [
    "#Method-7\n",
    "#special method \n",
    "#to creating the tuple by user input \n",
    "#for and while loop ka use kerte hai \n",
    "# t1=tuple()\n",
    "# #n= int(input(\"How many number are you ented in the tuple :\"))\n",
    "# n=5\n",
    "# for i in range(n):\n",
    "#     i=int(input(\"Enter the element in the tuple : \"))\n",
    "#     #concetanation technique\n",
    "#     t1=t1+(i,)\n",
    "#     #t1=t1+i,\n",
    "#     #t1=t1+tuple((i,))\n",
    "# print(\"Tuple with element is : \",t1)"
   ]
  },
  {
   "cell_type": "code",
   "execution_count": 11,
   "metadata": {},
   "outputs": [],
   "source": [
    "# #Type of tuple\n",
    "# #1.Homogenous tuple \n",
    "# t1=(1,2,3,5)  #integer tuple \n",
    "# t2=(\"Lakshya\",\"Kumar\") #String tuple \n",
    "# t3=(True,False) #boleean tuple \n",
    "\n",
    "# #2.Hetrogenous (Mixed element Tuple )\n",
    "# t4=(\"ajay\",True,45.566,48,\"a\",[1,2,3])\n",
    "\n",
    "# #3.Empty tuple \n",
    "# t4=()\n",
    "\n",
    "# #4.Neasted tuple\n",
    "# t5=((1,2,3),(\"lakshya\",\"kumar\"),(True,False),(123.0,45.25))\n",
    "\n"
   ]
  },
  {
   "cell_type": "code",
   "execution_count": null,
   "metadata": {},
   "outputs": [
    {
     "name": "stdout",
     "output_type": "stream",
     "text": [
      "(2, 5, 7, 6, 1)\n",
      "By Positve Indexing :\n",
      "2\n",
      "5\n",
      "7\n",
      "6\n",
      "Ny Negative Indexing : \n",
      "1\n",
      "6\n",
      "7\n",
      "5\n"
     ]
    }
   ],
   "source": [
    "#Traversing and Acessing a tuple element \n",
    "#Tuple have the indexing concept same as list  \n",
    "\n",
    "# t1=(2,5,7,6,1)\n",
    "# print(t1)\n",
    "\n",
    "# #acessing the element of tuple using indexing \n",
    "# #positive indexing \n",
    "# print(\"By Positve Indexing :\")\n",
    "# print(t1[0])\n",
    "# print(t1[1])\n",
    "# print(t1[2])\n",
    "# print(t1[3])\n",
    "\n",
    "# #negative Indexing \n",
    "# print(\"Ny Negative Indexing : \")\n",
    "# print(t1[-1])\n",
    "# print(t1[-2])\n",
    "# print(t1[-3])\n",
    "# print(t1[-4])\n",
    "\n"
   ]
  },
  {
   "cell_type": "code",
   "execution_count": null,
   "metadata": {},
   "outputs": [
    {
     "name": "stdout",
     "output_type": "stream",
     "text": [
      "1\n",
      "2\n",
      "3\n",
      "5\n",
      "8\n"
     ]
    }
   ],
   "source": [
    "#Traversing of the tuple elements\n",
    "t1=(1,2,3,5,8) #tuple \n",
    "\n",
    "#1.By for loop\n",
    "# for i in t1:\n",
    "#     print(i)\n",
    "\n",
    "\n",
    "#2.by while loop  \n",
    "# i=0\n",
    "# while i<len(t1):\n",
    "#     print(t1[i])\n",
    "#     i=i+1\n",
    "\n",
    "#3.by range function\n",
    "# n=len(t1) \n",
    "# for i in range(n):\n",
    "#     print(t1[i])\n",
    "\n"
   ]
  },
  {
   "cell_type": "code",
   "execution_count": null,
   "metadata": {},
   "outputs": [
    {
     "name": "stdout",
     "output_type": "stream",
     "text": [
      "(8, 7, 26, 48, 1, 59, 7, 23)\n",
      "(8, 7, 26, 48, 1, 59, 7)\n",
      "(1, 59, 7)\n",
      "(4, 8, 7, 26, 48, 1, 59, 7, 23)\n",
      "(4, 7, 48, 59, 23)\n",
      "(4, 26, 59)\n",
      "Negative indexing :\n",
      "\n",
      "(23,)\n",
      "(8, 7, 26, 48, 1, 59)\n",
      "(23, 7, 59, 1, 48, 26, 7, 8, 4)\n",
      "(23, 59, 48, 7, 4)\n",
      "(23, 1, 7)\n",
      "(23, 48, 4)\n"
     ]
    }
   ],
   "source": [
    "#Scliing of the tuple  same aas in list \n",
    "# t1=(4,8,7,26,48,1,59,7,23)\n",
    "# n=len(t1)\n",
    "# #scling concept \n",
    "# #tuple(start:stop:Step)\n",
    "\n",
    "# #Positive indexing \n",
    "# print(t1[1::])\n",
    "# print(t1[1:n-1:])\n",
    "# print(t1[5:8:])\n",
    "\n",
    "# print(t1[::1])\n",
    "# print(t1[::2])\n",
    "# print(t1[::3])\n",
    "\n",
    "# #negative Indexing scling\n",
    "# print(\"Negative indexing :\\n\")\n",
    "# print(t1[-1::]) \n",
    "# print(t1[-8:-2])\n",
    "# print(t1[::-1])\n",
    "# print(t1[::-2])\n",
    "# print(t1[::-3])\n",
    "# print(t1[::-4])"
   ]
  },
  {
   "cell_type": "code",
   "execution_count": 1,
   "metadata": {},
   "outputs": [
    {
     "name": "stdout",
     "output_type": "stream",
     "text": [
      "(1, 4, 7, 5, 56)\n",
      "(1, 4, 7, 5, 56, 10, 25)\n"
     ]
    }
   ],
   "source": [
    "#Concatenation concept of the tuple \n",
    "#Tuple is only added with a tuple not a list ,dictinory even string or int,float,boolean\n",
    "\n",
    "\n",
    "# t1=(1,4,7,5)\n",
    "# t2=56,\n",
    "# t3=tuple((10,25))\n",
    "\n",
    "# #concartenated \n",
    "# t5=t1+t2\n",
    "# print(t5)\n",
    "\n",
    "# t6=t5+t3\n",
    "# print(t6)\n"
   ]
  },
  {
   "cell_type": "code",
   "execution_count": 4,
   "metadata": {},
   "outputs": [
    {
     "name": "stdout",
     "output_type": "stream",
     "text": [
      "(1, 5, 8, 3, 4, 1, 5, 8, 3, 4)\n"
     ]
    }
   ],
   "source": [
    "#Repetation of the tuple\n",
    "# t1=(1,5,8,3,4)\n",
    "# n=2\n",
    "\n",
    "# t2=t1*2\n",
    "# print(t2)\n"
   ]
  },
  {
   "cell_type": "code",
   "execution_count": null,
   "metadata": {},
   "outputs": [
    {
     "name": "stdout",
     "output_type": "stream",
     "text": [
      "False\n",
      "True\n",
      "False\n",
      "True\n",
      "True\n",
      "True\n",
      "False\n"
     ]
    }
   ],
   "source": [
    "#membership opreator 'in' and 'not in'\n",
    "# t1=(1,5,7,6,9,4)\n",
    "\n",
    "\n",
    "# print(2 in t1)\n",
    "# print(1 in t1)\n",
    "# print(3 in t1)\n",
    "# print(4 not in t1)\n",
    "# print(7 not in t1)\n",
    "# print(9 not in t1)\n",
    "# print(54 not in t1)"
   ]
  },
  {
   "cell_type": "code",
   "execution_count": null,
   "metadata": {},
   "outputs": [
    {
     "name": "stdout",
     "output_type": "stream",
     "text": [
      "13\n",
      "4\n",
      "254\n",
      "1\n",
      "370\n",
      "[1, 1, 1, 1, 2, 3, 4, 5, 6, 7, 7, 78, 254]\n",
      "2\n",
      "True\n"
     ]
    }
   ],
   "source": [
    "# # Functions in tuple\n",
    "# # \n",
    "# #len(),count(),max(),min(),sum(),any(),sorted(),index(),\n",
    "\n",
    "# t1=(1,5,7,6,3,78,254,4,7,1,1,1,2)\n",
    "\n",
    "# print(len(t1))  #returns the length of the tuple \n",
    "\n",
    "# print(t1.count(1)) #return the occurence of character <tuple.count(element)>\n",
    "\n",
    "# print((max(t1))) #return the maxium valued element \n",
    "#max() is work only on the homogenous element tuple\n",
    "\n",
    "# print((min(t1))) #return the minium valued the element\n",
    "#min() is work only on the homogenous element tuple\n",
    "\n",
    "# print((sum(t1))) #return of all the element sum \n",
    "#sum() is work only on the homogenous element tuple\n",
    "# print(sorted(t1)) #return the sorted list.\n",
    "\n",
    "# print(t1.index(7)) #return the element of index of first occurence\n",
    "\n",
    "# print(any(t1)) #check the sigleton tuple is is ture return Ture otherwise gives False  \n",
    "\n"
   ]
  },
  {
   "cell_type": "code",
   "execution_count": 14,
   "metadata": {},
   "outputs": [
    {
     "name": "stdout",
     "output_type": "stream",
     "text": [
      "False\n",
      "False\n",
      "True\n",
      "False\n",
      "True\n",
      "True\n",
      "True\n",
      "True\n",
      "True\n",
      "True\n",
      "True\n",
      "True\n"
     ]
    }
   ],
   "source": [
    "#comparing the tuple\n",
    "\n",
    "t1=(1,7,9,25,4,9,15)\n",
    "t2=(1,7,9,26,4,3,15)\n",
    "\n",
    "print(t1==t2)\n",
    "print(t1>=t2)\n",
    "print(t1<=t2)\n",
    "print(t1>t2)\n",
    "print(t1<t2)\n",
    "print(t1!=t2)\n",
    "print(t1==t1)\n",
    "print(t2==t2)\n",
    "print(t1>=t1)\n",
    "print(t2>=t2)\n",
    "print(t1<=t1)\n",
    "print(t2<=t2)\n",
    "\n"
   ]
  },
  {
   "cell_type": "code",
   "execution_count": null,
   "metadata": {},
   "outputs": [],
   "source": [
    "\n"
   ]
  }
 ],
 "metadata": {
  "kernelspec": {
   "display_name": "Python 3",
   "language": "python",
   "name": "python3"
  },
  "language_info": {
   "codemirror_mode": {
    "name": "ipython",
    "version": 3
   },
   "file_extension": ".py",
   "mimetype": "text/x-python",
   "name": "python",
   "nbconvert_exporter": "python",
   "pygments_lexer": "ipython3",
   "version": "3.12.5"
  }
 },
 "nbformat": 4,
 "nbformat_minor": 2
}
